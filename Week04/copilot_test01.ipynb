{
 "cells": [
  {
   "cell_type": "code",
   "execution_count": 17,
   "metadata": {},
   "outputs": [],
   "source": [
    "import pandas as pd\n",
    "import sklearn \n",
    "import random\n",
    "\n",
    "def simulate_random_data(n):\n",
    "   \"\"\"Simulate random data\"\"\"\n",
    "   x1 = [random.randint(0,n) for i in range(n)]\n",
    "   x2 = [random.randint(0,n) for i in range(n)]\n",
    "   beta1 = random.randint(0,n)\n",
    "   beta2 = random.randint(0,n)\n",
    "   y  = [x1[i]*beta1 + x2[i]*beta2 for i in range(n)] \n",
    "   return pd.DataFrame ({'x1':x1, 'x2':x2, 'y':y})\n",
    "\n",
    "def generate_data_set(csvFile):\n",
    "   \"\"\"Generate a data set\"\"\"\n",
    "   df = pd.read_csv(csvFile)\n",
    "   X = df[['x1', 'x2']]\n",
    "   y = df['y']\n",
    "   return X, y\n",
    "\n",
    "def visualize_data_frame(csvFile):\n",
    "   \"\"\"Read a data frame from a csv file and create a boxplot\"\"\" \n",
    "   df = pd.read_csv(csvFile)\n",
    "   df.boxplot()\n",
    "\n",
    "from sklearn.linear_model import LinearRegression\n",
    "def train_linear_regression(X,y):\n",
    "   \"\"\"Train a linear regression model\"\"\"\n",
    "   lr = LinearRegression()\n",
    "   lr.fit(X, y)\n",
    "   return lr\n",
    "\n",
    "def predict_linear_regression(lr, x1, x2):\n",
    "   \"\"\"Predict a value using a linear regression model\"\"\"\n",
    "   return lr.predict([[x1, x2]])\n",
    "   "
   ]
  },
  {
   "cell_type": "code",
   "execution_count": 18,
   "metadata": {},
   "outputs": [],
   "source": [
    "test_csv = \"test_data.csv\"\n",
    "\n",
    "df = simulate_random_data(10)\n",
    "df.to_csv(test_csv)\n"
   ]
  },
  {
   "cell_type": "code",
   "execution_count": 19,
   "metadata": {},
   "outputs": [
    {
     "data": {
      "image/png": "[encoded data removed]",
      "text/plain": [
       "<Figure size 432x288 with 1 Axes>"
      ]
     },
     "metadata": {
      "needs_background": "light"
     },
     "output_type": "display_data"
    }
   ],
   "source": [
    "visualize_data_frame(test_csv)\n",
    "X, y = generate_data_set(test_csv)"
   ]
  },
  {
   "cell_type": "code",
   "execution_count": 25,
   "metadata": {},
   "outputs": [],
   "source": [
    "lr = train_linear_regression(X, y)"
   ]
  },
  {
   "cell_type": "code",
   "execution_count": 27,
   "metadata": {},
   "outputs": [
    {
     "name": "stdout",
     "output_type": "stream",
     "text": [
      "[17.]\n",
      "[98.]\n"
     ]
    },
    {
     "name": "stderr",
     "output_type": "stream",
     "text": [
      "/Users/pgmenon/opt/anaconda3/lib/python3.9/site-packages/sklearn/base.py:450: UserWarning: X does not have valid feature names, but LinearRegression was fitted with feature names\n",
      "  warnings.warn(\n",
      "/Users/pgmenon/opt/anaconda3/lib/python3.9/site-packages/sklearn/base.py:450: UserWarning: X does not have valid feature names, but LinearRegression was fitted with feature names\n",
      "  warnings.warn(\n"
     ]
    }
   ],
   "source": [
    "print(predict_linear_regression(lr, 1, 1))\n",
    "print(predict_linear_regression(lr, 1, 10))"
   ]
  },
  {
   "cell_type": "code",
   "execution_count": null,
   "metadata": {},
   "outputs": [],
   "source": []
  }
 ],
 "metadata": {
  "kernelspec": {
   "display_name": "Python 3.9.7 ('base')",
   "language": "python",
   "name": "python3"
  },
  "language_info": {
   "codemirror_mode": {
    "name": "ipython",
    "version": 3
   },
   "file_extension": ".py",
   "mimetype": "text/x-python",
   "name": "python",
   "nbconvert_exporter": "python",
   "pygments_lexer": "ipython3",
   "version": "3.9.7"
  },
  "orig_nbformat": 4,
  "vscode": {
   "interpreter": {
    "hash": "13b8b8115e9dcb6bc66ef263f45e8d173c5b85e3548db66bf76b0f5d3d64c937"
   }
  }
 },
 "nbformat": 4,
 "nbformat_minor": 2
}
