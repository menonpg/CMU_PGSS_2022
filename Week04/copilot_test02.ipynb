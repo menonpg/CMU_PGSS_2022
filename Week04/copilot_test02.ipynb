{
 "cells": [
  {
   "cell_type": "code",
   "execution_count": 76,
   "metadata": {},
   "outputs": [
    {
     "data": {
      "text/plain": [
       "<bound method NDFrame.head of                      x1                     x2  y\n",
       "0    0.8384432184232014     0.9274954924754585  1\n",
       "1    0.5175615803602975     0.8056419517796346  0\n",
       "2    0.3074148074861729     0.8010486520029023  0\n",
       "3   0.34883556190048126     0.4898641810711224  1\n",
       "4   0.08843834856046884     0.4227741901111495  0\n",
       "..                  ...                    ... ..\n",
       "95  0.14533969704262029    0.07515080780777073  1\n",
       "96   0.2998190819621035  0.0018495128437687747  2\n",
       "97  0.19677914200163782     0.4761490597463197  0\n",
       "98  0.43043592164136324     0.1700810911124574  0\n",
       "99   0.9407099851212435     0.3091743127881722  2\n",
       "\n",
       "[100 rows x 3 columns]>"
      ]
     },
     "execution_count": 76,
     "metadata": {},
     "output_type": "execute_result"
    }
   ],
   "source": [
    "\"\"\"Generate a random pandas dataframe with two numerical columns and one categorical column\"\"\"\n",
    "import random\n",
    "import pandas as pd\n",
    "import numpy as np\n",
    "\n",
    "def generate_data(n):\n",
    "    \"\"\"Generate a random pandas dataframe with two numerical columns and one categorical column\"\"\"\n",
    "    data = []\n",
    "    for i in range(n):\n",
    "        \"\"\"Add data to a list\"\"\"\n",
    "        data.append([random.random(), random.random(), random.choice(['0','1','2'])])\n",
    "        # testNum = random.random()\n",
    "        # data.append([testNum, testNum+0.1*random.random(), if(testNum > 0.5, \"A\", \"B\")])\n",
    "    \"\"\"Convert list to numpy array\"\"\"\n",
    "    data = np.array(data)\n",
    "    \"\"\"Convert list of lists to pandas dataframe\"\"\"\n",
    "    data = pd.DataFrame(data, columns=['x1', 'x2', 'y'])\n",
    "    return data\n",
    "\n",
    "my_data = generate_data(100)\n",
    "my_data.head"
   ]
  },
  {
   "cell_type": "code",
   "execution_count": 77,
   "metadata": {},
   "outputs": [
    {
     "name": "stdout",
     "output_type": "stream",
     "text": [
      "<class 'pandas.core.frame.DataFrame'>\n",
      "RangeIndex: 100 entries, 0 to 99\n",
      "Data columns (total 3 columns):\n",
      " #   Column  Non-Null Count  Dtype   \n",
      "---  ------  --------------  -----   \n",
      " 0   x1      100 non-null    float64 \n",
      " 1   x2      100 non-null    float64 \n",
      " 2   y       100 non-null    category\n",
      "dtypes: category(1), float64(2)\n",
      "memory usage: 1.9 KB\n"
     ]
    }
   ],
   "source": [
    "\"\"\"Convert columns to categorical\"\"\"\n",
    "my_data['y'] = my_data['y'].astype('category')\n",
    "\n",
    "\"\"\"Convert columsn to numeric\"\"\"\n",
    "my_data['x1'] = my_data['x1'].astype('float')\n",
    "my_data['x2'] = my_data['x2'].astype('float')\n",
    "\n",
    "my_data.info()"
   ]
  },
  {
   "cell_type": "code",
   "execution_count": 78,
   "metadata": {},
   "outputs": [],
   "source": [
    "\"\"\" Build a classifier using the pandas dataframe \"\"\"\n",
    "from sklearn.tree import DecisionTreeClassifier\n",
    "from sklearn.model_selection import train_test_split\n",
    "# from sklearn.metrics import accuracy_score\n",
    "from sklearn.metrics import classification_report\n",
    "\n",
    "def train_model(df):\n",
    "    \"\"\"Trains a model using columns of df\"\"\"\n",
    "    \"\"\"Split data into training and test sets\"\"\"\n",
    "    train, test = train_test_split(df, test_size=0.2)\n",
    "    \"\"\"Create a decision tree classifier\"\"\"\n",
    "    clf = DecisionTreeClassifier()\n",
    "    \"\"\"Train the classifier\"\"\"\n",
    "    clf.fit(train[['x1', 'x2']], train['y'])\n",
    "    return clf, train, test\n",
    "\n",
    "def test_model(clf, test):\n",
    "    \"\"\"Predict the labels of the test set\"\"\"\n",
    "    pred = clf.predict(test[['x1', 'x2']])\n",
    "    \"\"\"Calculate the accuracy of the model\"\"\"\n",
    "    accuracy = accuracy_score(test['y'], pred)\n",
    "    return accuracy"
   ]
  },
  {
   "cell_type": "code",
   "execution_count": 79,
   "metadata": {},
   "outputs": [
    {
     "name": "stdout",
     "output_type": "stream",
     "text": [
      "              precision    recall  f1-score   support\n",
      "\n",
      "           0       0.43      0.43      0.43         7\n",
      "           1       0.40      0.67      0.50         6\n",
      "           2       0.33      0.14      0.20         7\n",
      "\n",
      "    accuracy                           0.40        20\n",
      "   macro avg       0.39      0.41      0.38        20\n",
      "weighted avg       0.39      0.40      0.37        20\n",
      "\n"
     ]
    }
   ],
   "source": [
    "clf, train, test  = train_model(my_data)\n",
    "# accuracy = test_model(clf, test)\n",
    "\n",
    "\"\"\"Evaluate model performance using classification_report\"\"\"\n",
    "accuracy = classification_report(test['y'], clf.predict(test[['x1', 'x2']]))\n",
    "\n",
    "print(accuracy)"
   ]
  },
  {
   "cell_type": "code",
   "execution_count": 84,
   "metadata": {},
   "outputs": [],
   "source": [
    "\"\"\"Train a keras neural network to classify the data\"\"\"\n",
    "from keras.models import Sequential\n",
    "from keras.layers import Dense\n",
    "from keras.utils import to_categorical\n",
    "from keras.models import model_from_json\n",
    "from keras.models import load_model\n",
    "\n",
    "\n",
    "def train_keras_model(df):\n",
    "    \"\"\"Split data into training and test sets\"\"\"\n",
    "    df = my_data.copy()\n",
    "    train, test = train_test_split(df, test_size=0.2)\n",
    "    \"\"\"Convert y to categorical\"\"\"\n",
    "    train['y'] = to_categorical(train['y'])\n",
    "    test['y'] = to_categorical(test['y'])\n",
    "    \"\"\"Create a neural network\"\"\"\n",
    "    model = Sequential()\n",
    "    \"\"\"Add layers to the neural network\"\"\"\n",
    "    model.add(Dense(10, input_dim=2, activation='relu'))\n",
    "    model.add(Dense(1, activation='softmax'))  #3 because there are 3 classes in the response variable\n",
    "    \"\"\"Compile the neural network\"\"\"\n",
    "    model.compile(loss='categorical_crossentropy', optimizer='adam', metrics=['accuracy'])\n",
    "    \"\"\"Train the neural network\"\"\"\n",
    "    model.fit(train[['x1', 'x2']], train['y'], epochs=100, batch_size=10, verbose=1)\n",
    "    \"\"\"Evaluate the model\"\"\"\n",
    "    score = model.evaluate(test[['x1', 'x2']], test['y'], verbose=0)\n",
    "    return model, train, test, score"
   ]
  },
  {
   "cell_type": "code",
   "execution_count": 85,
   "metadata": {},
   "outputs": [
    {
     "name": "stdout",
     "output_type": "stream",
     "text": [
      "Epoch 1/100\n",
      "8/8 [==============================] - 0s 2ms/step - loss: 0.0000e+00 - accuracy: 0.3125\n",
      "Epoch 2/100\n",
      "8/8 [==============================] - 0s 2ms/step - loss: 0.0000e+00 - accuracy: 0.3125\n",
      "Epoch 3/100\n",
      "8/8 [==============================] - 0s 1ms/step - loss: 0.0000e+00 - accuracy: 0.3125\n",
      "Epoch 4/100\n",
      "8/8 [==============================] - 0s 2ms/step - loss: 0.0000e+00 - accuracy: 0.3125\n",
      "Epoch 5/100\n",
      "8/8 [==============================] - 0s 2ms/step - loss: 0.0000e+00 - accuracy: 0.3125\n",
      "Epoch 6/100\n",
      "8/8 [==============================] - 0s 2ms/step - loss: 0.0000e+00 - accuracy: 0.3125\n",
      "Epoch 7/100\n",
      "8/8 [==============================] - 0s 2ms/step - loss: 0.0000e+00 - accuracy: 0.3125\n",
      "Epoch 8/100\n",
      "8/8 [==============================] - 0s 2ms/step - loss: 0.0000e+00 - accuracy: 0.3125\n",
      "Epoch 9/100\n",
      "8/8 [==============================] - 0s 2ms/step - loss: 0.0000e+00 - accuracy: 0.3125\n",
      "Epoch 10/100\n",
      "8/8 [==============================] - 0s 2ms/step - loss: 0.0000e+00 - accuracy: 0.3125\n",
      "Epoch 11/100\n",
      "8/8 [==============================] - 0s 2ms/step - loss: 0.0000e+00 - accuracy: 0.3125\n",
      "Epoch 12/100\n",
      "8/8 [==============================] - 0s 2ms/step - loss: 0.0000e+00 - accuracy: 0.3125\n",
      "Epoch 13/100\n",
      "8/8 [==============================] - 0s 3ms/step - loss: 0.0000e+00 - accuracy: 0.3125\n",
      "Epoch 14/100\n",
      "8/8 [==============================] - 0s 2ms/step - loss: 0.0000e+00 - accuracy: 0.3125\n",
      "Epoch 15/100\n",
      "8/8 [==============================] - 0s 2ms/step - loss: 0.0000e+00 - accuracy: 0.3125\n",
      "Epoch 16/100\n",
      "8/8 [==============================] - 0s 2ms/step - loss: 0.0000e+00 - accuracy: 0.3125\n",
      "Epoch 17/100\n",
      "8/8 [==============================] - 0s 3ms/step - loss: 0.0000e+00 - accuracy: 0.3125\n",
      "Epoch 18/100\n",
      "8/8 [==============================] - 0s 3ms/step - loss: 0.0000e+00 - accuracy: 0.3125\n",
      "Epoch 19/100\n",
      "8/8 [==============================] - 0s 2ms/step - loss: 0.0000e+00 - accuracy: 0.3125\n",
      "Epoch 20/100\n",
      "8/8 [==============================] - 0s 5ms/step - loss: 0.0000e+00 - accuracy: 0.3125\n",
      "Epoch 21/100\n",
      "8/8 [==============================] - 0s 3ms/step - loss: 0.0000e+00 - accuracy: 0.3125\n",
      "Epoch 22/100\n",
      "8/8 [==============================] - 0s 3ms/step - loss: 0.0000e+00 - accuracy: 0.3125\n",
      "Epoch 23/100\n",
      "8/8 [==============================] - 0s 2ms/step - loss: 0.0000e+00 - accuracy: 0.3125\n",
      "Epoch 24/100\n",
      "8/8 [==============================] - 0s 2ms/step - loss: 0.0000e+00 - accuracy: 0.3125\n",
      "Epoch 25/100\n",
      "8/8 [==============================] - 0s 2ms/step - loss: 0.0000e+00 - accuracy: 0.3125\n",
      "Epoch 26/100\n",
      "8/8 [==============================] - 0s 2ms/step - loss: 0.0000e+00 - accuracy: 0.3125\n",
      "Epoch 27/100\n",
      "8/8 [==============================] - 0s 3ms/step - loss: 0.0000e+00 - accuracy: 0.3125\n",
      "Epoch 28/100\n",
      "8/8 [==============================] - 0s 2ms/step - loss: 0.0000e+00 - accuracy: 0.3125\n",
      "Epoch 29/100\n",
      "8/8 [==============================] - 0s 3ms/step - loss: 0.0000e+00 - accuracy: 0.3125\n",
      "Epoch 30/100\n",
      "8/8 [==============================] - 0s 3ms/step - loss: 0.0000e+00 - accuracy: 0.3125\n",
      "Epoch 31/100\n",
      "8/8 [==============================] - 0s 2ms/step - loss: 0.0000e+00 - accuracy: 0.3125\n",
      "Epoch 32/100\n",
      "8/8 [==============================] - 0s 3ms/step - loss: 0.0000e+00 - accuracy: 0.3125\n",
      "Epoch 33/100\n",
      "8/8 [==============================] - 0s 2ms/step - loss: 0.0000e+00 - accuracy: 0.3125\n",
      "Epoch 34/100\n",
      "8/8 [==============================] - 0s 2ms/step - loss: 0.0000e+00 - accuracy: 0.3125\n",
      "Epoch 35/100\n",
      "8/8 [==============================] - 0s 2ms/step - loss: 0.0000e+00 - accuracy: 0.3125\n",
      "Epoch 36/100\n",
      "8/8 [==============================] - 0s 2ms/step - loss: 0.0000e+00 - accuracy: 0.3125\n",
      "Epoch 37/100\n",
      "8/8 [==============================] - 0s 2ms/step - loss: 0.0000e+00 - accuracy: 0.3125\n",
      "Epoch 38/100\n",
      "8/8 [==============================] - 0s 2ms/step - loss: 0.0000e+00 - accuracy: 0.3125\n",
      "Epoch 39/100\n",
      "8/8 [==============================] - 0s 2ms/step - loss: 0.0000e+00 - accuracy: 0.3125\n",
      "Epoch 40/100\n",
      "8/8 [==============================] - 0s 2ms/step - loss: 0.0000e+00 - accuracy: 0.3125\n",
      "Epoch 41/100\n",
      "8/8 [==============================] - 0s 2ms/step - loss: 0.0000e+00 - accuracy: 0.3125\n",
      "Epoch 42/100\n",
      "8/8 [==============================] - 0s 2ms/step - loss: 0.0000e+00 - accuracy: 0.3125\n",
      "Epoch 43/100\n",
      "8/8 [==============================] - 0s 2ms/step - loss: 0.0000e+00 - accuracy: 0.3125\n",
      "Epoch 44/100\n",
      "8/8 [==============================] - 0s 2ms/step - loss: 0.0000e+00 - accuracy: 0.3125\n",
      "Epoch 45/100\n",
      "8/8 [==============================] - 0s 2ms/step - loss: 0.0000e+00 - accuracy: 0.3125\n",
      "Epoch 46/100\n",
      "8/8 [==============================] - 0s 2ms/step - loss: 0.0000e+00 - accuracy: 0.3125\n",
      "Epoch 47/100\n",
      "8/8 [==============================] - 0s 2ms/step - loss: 0.0000e+00 - accuracy: 0.3125\n",
      "Epoch 48/100\n",
      "8/8 [==============================] - 0s 2ms/step - loss: 0.0000e+00 - accuracy: 0.3125\n",
      "Epoch 49/100\n",
      "8/8 [==============================] - 0s 2ms/step - loss: 0.0000e+00 - accuracy: 0.3125\n",
      "Epoch 50/100\n",
      "8/8 [==============================] - 0s 2ms/step - loss: 0.0000e+00 - accuracy: 0.3125\n",
      "Epoch 51/100\n",
      "8/8 [==============================] - 0s 2ms/step - loss: 0.0000e+00 - accuracy: 0.3125\n",
      "Epoch 52/100\n",
      "8/8 [==============================] - 0s 2ms/step - loss: 0.0000e+00 - accuracy: 0.3125\n",
      "Epoch 53/100\n",
      "8/8 [==============================] - 0s 2ms/step - loss: 0.0000e+00 - accuracy: 0.3125\n",
      "Epoch 54/100\n",
      "8/8 [==============================] - 0s 2ms/step - loss: 0.0000e+00 - accuracy: 0.3125\n",
      "Epoch 55/100\n",
      "8/8 [==============================] - 0s 2ms/step - loss: 0.0000e+00 - accuracy: 0.3125\n",
      "Epoch 56/100\n",
      "8/8 [==============================] - 0s 2ms/step - loss: 0.0000e+00 - accuracy: 0.3125\n",
      "Epoch 57/100\n",
      "8/8 [==============================] - 0s 2ms/step - loss: 0.0000e+00 - accuracy: 0.3125\n",
      "Epoch 58/100\n",
      "8/8 [==============================] - 0s 2ms/step - loss: 0.0000e+00 - accuracy: 0.3125\n",
      "Epoch 59/100\n",
      "8/8 [==============================] - 0s 2ms/step - loss: 0.0000e+00 - accuracy: 0.3125\n",
      "Epoch 60/100\n",
      "8/8 [==============================] - 0s 2ms/step - loss: 0.0000e+00 - accuracy: 0.3125\n",
      "Epoch 61/100\n",
      "8/8 [==============================] - 0s 2ms/step - loss: 0.0000e+00 - accuracy: 0.3125\n",
      "Epoch 62/100\n",
      "8/8 [==============================] - 0s 2ms/step - loss: 0.0000e+00 - accuracy: 0.3125\n",
      "Epoch 63/100\n",
      "8/8 [==============================] - 0s 3ms/step - loss: 0.0000e+00 - accuracy: 0.3125\n",
      "Epoch 64/100\n",
      "8/8 [==============================] - 0s 2ms/step - loss: 0.0000e+00 - accuracy: 0.3125\n",
      "Epoch 65/100\n",
      "8/8 [==============================] - 0s 2ms/step - loss: 0.0000e+00 - accuracy: 0.3125\n",
      "Epoch 66/100\n",
      "8/8 [==============================] - 0s 2ms/step - loss: 0.0000e+00 - accuracy: 0.3125\n",
      "Epoch 67/100\n",
      "8/8 [==============================] - 0s 2ms/step - loss: 0.0000e+00 - accuracy: 0.3125\n",
      "Epoch 68/100\n",
      "8/8 [==============================] - 0s 2ms/step - loss: 0.0000e+00 - accuracy: 0.3125\n",
      "Epoch 69/100\n",
      "8/8 [==============================] - 0s 2ms/step - loss: 0.0000e+00 - accuracy: 0.3125\n",
      "Epoch 70/100\n",
      "8/8 [==============================] - 0s 3ms/step - loss: 0.0000e+00 - accuracy: 0.3125\n",
      "Epoch 71/100\n",
      "8/8 [==============================] - 0s 2ms/step - loss: 0.0000e+00 - accuracy: 0.3125\n",
      "Epoch 72/100\n",
      "8/8 [==============================] - 0s 2ms/step - loss: 0.0000e+00 - accuracy: 0.3125\n",
      "Epoch 73/100\n",
      "8/8 [==============================] - 0s 2ms/step - loss: 0.0000e+00 - accuracy: 0.3125\n",
      "Epoch 74/100\n",
      "8/8 [==============================] - 0s 3ms/step - loss: 0.0000e+00 - accuracy: 0.3125\n",
      "Epoch 75/100\n",
      "8/8 [==============================] - 0s 2ms/step - loss: 0.0000e+00 - accuracy: 0.3125\n",
      "Epoch 76/100\n",
      "8/8 [==============================] - 0s 2ms/step - loss: 0.0000e+00 - accuracy: 0.3125\n",
      "Epoch 77/100\n",
      "8/8 [==============================] - 0s 2ms/step - loss: 0.0000e+00 - accuracy: 0.3125\n",
      "Epoch 78/100\n",
      "8/8 [==============================] - 0s 2ms/step - loss: 0.0000e+00 - accuracy: 0.3125\n",
      "Epoch 79/100\n",
      "8/8 [==============================] - 0s 2ms/step - loss: 0.0000e+00 - accuracy: 0.3125\n",
      "Epoch 80/100\n",
      "8/8 [==============================] - 0s 2ms/step - loss: 0.0000e+00 - accuracy: 0.3125\n",
      "Epoch 81/100\n",
      "8/8 [==============================] - 0s 3ms/step - loss: 0.0000e+00 - accuracy: 0.3125\n",
      "Epoch 82/100\n",
      "8/8 [==============================] - 0s 2ms/step - loss: 0.0000e+00 - accuracy: 0.3125\n",
      "Epoch 83/100\n",
      "8/8 [==============================] - 0s 2ms/step - loss: 0.0000e+00 - accuracy: 0.3125\n",
      "Epoch 84/100\n",
      "8/8 [==============================] - 0s 2ms/step - loss: 0.0000e+00 - accuracy: 0.3125\n",
      "Epoch 85/100\n",
      "8/8 [==============================] - 0s 2ms/step - loss: 0.0000e+00 - accuracy: 0.3125\n",
      "Epoch 86/100\n",
      "8/8 [==============================] - 0s 2ms/step - loss: 0.0000e+00 - accuracy: 0.3125\n",
      "Epoch 87/100\n",
      "8/8 [==============================] - 0s 3ms/step - loss: 0.0000e+00 - accuracy: 0.3125\n",
      "Epoch 88/100\n",
      "8/8 [==============================] - 0s 2ms/step - loss: 0.0000e+00 - accuracy: 0.3125\n",
      "Epoch 89/100\n",
      "8/8 [==============================] - 0s 2ms/step - loss: 0.0000e+00 - accuracy: 0.3125\n",
      "Epoch 90/100\n",
      "8/8 [==============================] - 0s 2ms/step - loss: 0.0000e+00 - accuracy: 0.3125\n",
      "Epoch 91/100\n",
      "8/8 [==============================] - 0s 3ms/step - loss: 0.0000e+00 - accuracy: 0.3125\n",
      "Epoch 92/100\n",
      "8/8 [==============================] - 0s 2ms/step - loss: 0.0000e+00 - accuracy: 0.3125\n",
      "Epoch 93/100\n",
      "8/8 [==============================] - 0s 2ms/step - loss: 0.0000e+00 - accuracy: 0.3125\n",
      "Epoch 94/100\n",
      "8/8 [==============================] - 0s 2ms/step - loss: 0.0000e+00 - accuracy: 0.3125\n",
      "Epoch 95/100\n",
      "8/8 [==============================] - 0s 3ms/step - loss: 0.0000e+00 - accuracy: 0.3125\n",
      "Epoch 96/100\n",
      "8/8 [==============================] - 0s 2ms/step - loss: 0.0000e+00 - accuracy: 0.3125\n",
      "Epoch 97/100\n",
      "8/8 [==============================] - 0s 3ms/step - loss: 0.0000e+00 - accuracy: 0.3125\n",
      "Epoch 98/100\n",
      "8/8 [==============================] - 0s 2ms/step - loss: 0.0000e+00 - accuracy: 0.3125\n",
      "Epoch 99/100\n",
      "8/8 [==============================] - 0s 2ms/step - loss: 0.0000e+00 - accuracy: 0.3125\n",
      "Epoch 100/100\n",
      "8/8 [==============================] - 0s 3ms/step - loss: 0.0000e+00 - accuracy: 0.3125\n"
     ]
    },
    {
     "data": {
      "text/plain": [
       "[0.0, 0.25]"
      ]
     },
     "execution_count": 85,
     "metadata": {},
     "output_type": "execute_result"
    }
   ],
   "source": [
    " model, train, test, score = train_keras_model(my_data)  \n",
    " score"
   ]
  },
  {
   "cell_type": "code",
   "execution_count": 86,
   "metadata": {},
   "outputs": [
    {
     "name": "stdout",
     "output_type": "stream",
     "text": [
      "Saved model to disk\n"
     ]
    }
   ],
   "source": [
    "\"\"\"Save the model\"\"\"\n",
    "model_json = model.to_json()\n",
    "with open(\"model.json\", \"w\") as json_file:\n",
    "    json_file.write(model_json)\n",
    "    \n",
    "# serialize weights to HDF5\n",
    "model.save_weights(\"model.h5\")\n",
    "print(\"Saved model to disk\")\n"
   ]
  },
  {
   "cell_type": "code",
   "execution_count": 87,
   "metadata": {},
   "outputs": [
    {
     "name": "stdout",
     "output_type": "stream",
     "text": [
      "Loaded model from disk\n"
     ]
    }
   ],
   "source": [
    "\"\"\" Load the model\"\"\"\n",
    "json_file = open('model.json', 'r')\n",
    "loaded_model_json = json_file.read()\n",
    "json_file.close()\n",
    "loaded_model = model_from_json(loaded_model_json)\n",
    "\n",
    "# load weights into new model\n",
    "loaded_model.load_weights(\"model.h5\")\n",
    "print(\"Loaded model from disk\")"
   ]
  },
  {
   "cell_type": "code",
   "execution_count": null,
   "metadata": {},
   "outputs": [],
   "source": [
    "\"\"\"Another way to Save the model \"\"\"\n",
    "model.save(\"model_allinOne.h5\")\n",
    "print(\"Saved model to disk\")\n",
    "\n",
    "\"\"\"Another way to Load the model \"\"\"\n",
    "model = load_model(\"model_allinOne.h5\")\n",
    "print(\"Loaded model from disk\")"
   ]
  },
  {
   "cell_type": "code",
   "execution_count": 89,
   "metadata": {},
   "outputs": [
    {
     "name": "stdout",
     "output_type": "stream",
     "text": [
      "1/1 [==============================] - 0s 23ms/step\n",
      "              precision    recall  f1-score   support\n",
      "\n",
      "         0.0       0.00      0.00      0.00        15\n",
      "         1.0       0.25      1.00      0.40         5\n",
      "\n",
      "    accuracy                           0.25        20\n",
      "   macro avg       0.12      0.50      0.20        20\n",
      "weighted avg       0.06      0.25      0.10        20\n",
      "\n"
     ]
    },
    {
     "name": "stderr",
     "output_type": "stream",
     "text": [
      "/Users/pgmenon/opt/anaconda3/lib/python3.9/site-packages/sklearn/metrics/_classification.py:1318: UndefinedMetricWarning: Precision and F-score are ill-defined and being set to 0.0 in labels with no predicted samples. Use `zero_division` parameter to control this behavior.\n",
      "  _warn_prf(average, modifier, msg_start, len(result))\n",
      "/Users/pgmenon/opt/anaconda3/lib/python3.9/site-packages/sklearn/metrics/_classification.py:1318: UndefinedMetricWarning: Precision and F-score are ill-defined and being set to 0.0 in labels with no predicted samples. Use `zero_division` parameter to control this behavior.\n",
      "  _warn_prf(average, modifier, msg_start, len(result))\n",
      "/Users/pgmenon/opt/anaconda3/lib/python3.9/site-packages/sklearn/metrics/_classification.py:1318: UndefinedMetricWarning: Precision and F-score are ill-defined and being set to 0.0 in labels with no predicted samples. Use `zero_division` parameter to control this behavior.\n",
      "  _warn_prf(average, modifier, msg_start, len(result))\n"
     ]
    }
   ],
   "source": [
    "\"\"\"Predict the labels of the test set\"\"\"\n",
    "pred = model.predict(test[['x1', 'x2']])\n",
    "\n",
    "\"\"\"Evaluate model performance using classification_report\"\"\"\n",
    "accuracy = classification_report(test['y'], pred)\n",
    "\n",
    "print(accuracy)\n"
   ]
  },
  {
   "cell_type": "code",
   "execution_count": null,
   "metadata": {},
   "outputs": [],
   "source": []
  }
 ],
 "metadata": {
  "kernelspec": {
   "display_name": "Python 3.9.7 ('base')",
   "language": "python",
   "name": "python3"
  },
  "language_info": {
   "codemirror_mode": {
    "name": "ipython",
    "version": 3
   },
   "file_extension": ".py",
   "mimetype": "text/x-python",
   "name": "python",
   "nbconvert_exporter": "python",
   "pygments_lexer": "ipython3",
   "version": "3.9.7"
  },
  "orig_nbformat": 4,
  "vscode": {
   "interpreter": {
    "hash": "13b8b8115e9dcb6bc66ef263f45e8d173c5b85e3548db66bf76b0f5d3d64c937"
   }
  }
 },
 "nbformat": 4,
 "nbformat_minor": 2
}
