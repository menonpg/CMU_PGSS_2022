{
 "cells": [
  {
   "cell_type": "code",
   "execution_count": 2,
   "metadata": {},
   "outputs": [
    {
     "data": {
      "text/html": [
       "<div>\n",
       "<style scoped>\n",
       "    .dataframe tbody tr th:only-of-type {\n",
       "        vertical-align: middle;\n",
       "    }\n",
       "\n",
       "    .dataframe tbody tr th {\n",
       "        vertical-align: top;\n",
       "    }\n",
       "\n",
       "    .dataframe thead th {\n",
       "        text-align: right;\n",
       "    }\n",
       "</style>\n",
       "<table border=\"1\" class=\"dataframe\">\n",
       "  <thead>\n",
       "    <tr style=\"text-align: right;\">\n",
       "      <th></th>\n",
       "      <th>x1</th>\n",
       "      <th>x2</th>\n",
       "      <th>y</th>\n",
       "    </tr>\n",
       "  </thead>\n",
       "  <tbody>\n",
       "    <tr>\n",
       "      <th>0</th>\n",
       "      <td>0.1843830971513316</td>\n",
       "      <td>0.29111345648627507</td>\n",
       "      <td>C</td>\n",
       "    </tr>\n",
       "    <tr>\n",
       "      <th>1</th>\n",
       "      <td>0.8133053900256688</td>\n",
       "      <td>0.950930081990842</td>\n",
       "      <td>C</td>\n",
       "    </tr>\n",
       "    <tr>\n",
       "      <th>2</th>\n",
       "      <td>0.9820249421564605</td>\n",
       "      <td>0.8317504366905986</td>\n",
       "      <td>C</td>\n",
       "    </tr>\n",
       "    <tr>\n",
       "      <th>3</th>\n",
       "      <td>0.5612874706214793</td>\n",
       "      <td>0.2659457043696163</td>\n",
       "      <td>A</td>\n",
       "    </tr>\n",
       "    <tr>\n",
       "      <th>4</th>\n",
       "      <td>0.026930556447660292</td>\n",
       "      <td>0.7303140989750778</td>\n",
       "      <td>C</td>\n",
       "    </tr>\n",
       "    <tr>\n",
       "      <th>5</th>\n",
       "      <td>0.18405420002763628</td>\n",
       "      <td>0.9153701791330978</td>\n",
       "      <td>C</td>\n",
       "    </tr>\n",
       "    <tr>\n",
       "      <th>6</th>\n",
       "      <td>0.8222247994167522</td>\n",
       "      <td>0.3680268275375066</td>\n",
       "      <td>B</td>\n",
       "    </tr>\n",
       "    <tr>\n",
       "      <th>7</th>\n",
       "      <td>0.5736980351585185</td>\n",
       "      <td>0.49300116598298926</td>\n",
       "      <td>B</td>\n",
       "    </tr>\n",
       "    <tr>\n",
       "      <th>8</th>\n",
       "      <td>0.31698752933847607</td>\n",
       "      <td>0.36285923539004783</td>\n",
       "      <td>B</td>\n",
       "    </tr>\n",
       "    <tr>\n",
       "      <th>9</th>\n",
       "      <td>0.47597447884808275</td>\n",
       "      <td>0.0420422216769577</td>\n",
       "      <td>B</td>\n",
       "    </tr>\n",
       "  </tbody>\n",
       "</table>\n",
       "</div>"
      ],
      "text/plain": [
       "                     x1                   x2  y\n",
       "0    0.1843830971513316  0.29111345648627507  C\n",
       "1    0.8133053900256688    0.950930081990842  C\n",
       "2    0.9820249421564605   0.8317504366905986  C\n",
       "3    0.5612874706214793   0.2659457043696163  A\n",
       "4  0.026930556447660292   0.7303140989750778  C\n",
       "5   0.18405420002763628   0.9153701791330978  C\n",
       "6    0.8222247994167522   0.3680268275375066  B\n",
       "7    0.5736980351585185  0.49300116598298926  B\n",
       "8   0.31698752933847607  0.36285923539004783  B\n",
       "9   0.47597447884808275   0.0420422216769577  B"
      ]
     },
     "execution_count": 2,
     "metadata": {},
     "output_type": "execute_result"
    }
   ],
   "source": [
    "\"\"\"Generate a random pandas dataframe with two numerical columns and one categorical column\"\"\"\n",
    "import random\n",
    "import pandas as pd\n",
    "import numpy as np\n",
    "\n",
    "def generate_data(n):\n",
    "    \"\"\"Generate a random pandas dataframe with two numerical columns and one categorical column\"\"\"\n",
    "    data = []\n",
    "    for i in range(n):\n",
    "        \"\"\"Add data to a list\"\"\"\n",
    "        data.append([random.random(), random.random(), random.choice([\"A\", \"B\", \"C\"])])\n",
    "    \"\"\"Convert list to numpy array\"\"\"\n",
    "    data = np.array(data)\n",
    "    \"\"\"Convert list of lists to pandas dataframe\"\"\"\n",
    "    data = pd.DataFrame(data, columns=['x1', 'x2', 'y'])\n",
    "    return data\n",
    "\n",
    "my_data = generate_data(10)\n",
    "my_data"
   ]
  },
  {
   "cell_type": "code",
   "execution_count": 5,
   "metadata": {},
   "outputs": [
    {
     "name": "stdout",
     "output_type": "stream",
     "text": [
      "<class 'pandas.core.frame.DataFrame'>\n",
      "RangeIndex: 10 entries, 0 to 9\n",
      "Data columns (total 3 columns):\n",
      " #   Column  Non-Null Count  Dtype   \n",
      "---  ------  --------------  -----   \n",
      " 0   x1      10 non-null     float64 \n",
      " 1   x2      10 non-null     float64 \n",
      " 2   y       10 non-null     category\n",
      "dtypes: category(1), float64(2)\n",
      "memory usage: 430.0 bytes\n"
     ]
    }
   ],
   "source": [
    "\"\"\"Convert columns to categorical\"\"\"\n",
    "my_data['y'] = my_data['y'].astype('category')\n",
    "\n",
    "\"\"\"Convert columsn to numeric\"\"\"\n",
    "my_data['x1'] = my_data['x1'].astype('float')\n",
    "my_data['x2'] = my_data['x2'].astype('float')\n",
    "\n",
    "my_data.info()"
   ]
  },
  {
   "cell_type": "code",
   "execution_count": null,
   "metadata": {},
   "outputs": [],
   "source": []
  }
 ],
 "metadata": {
  "kernelspec": {
   "display_name": "Python 3.9.7 ('base')",
   "language": "python",
   "name": "python3"
  },
  "language_info": {
   "codemirror_mode": {
    "name": "ipython",
    "version": 3
   },
   "file_extension": ".py",
   "mimetype": "text/x-python",
   "name": "python",
   "nbconvert_exporter": "python",
   "pygments_lexer": "ipython3",
   "version": "3.9.7"
  },
  "orig_nbformat": 4,
  "vscode": {
   "interpreter": {
    "hash": "13b8b8115e9dcb6bc66ef263f45e8d173c5b85e3548db66bf76b0f5d3d64c937"
   }
  }
 },
 "nbformat": 4,
 "nbformat_minor": 2
}
